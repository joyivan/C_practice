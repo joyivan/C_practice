{
 "cells": [
  {
   "cell_type": "code",
   "execution_count": 5,
   "metadata": {
    "collapsed": false,
    "deletable": true,
    "editable": true
   },
   "outputs": [],
   "source": [
    "#-*- coding:utf-8 -*-\n",
    "from docx import Document\n",
    "from docx.shared import Inches\n",
    "import docx\n",
    "import os\n",
    "print os.getcwd()\n",
    "import re\n",
    "import types\n",
    "\n",
    "\n",
    "import sys\n",
    "reload(sys)\n",
    "sys.setdefaultencoding('utf8')\n",
    "#sys.path.append(\"/Library/Frameworks/Python.framework/Versions/2.7/lib/python2.7/site-packages/docx\")\n",
    "def check_contain_chinese(check_str):\n",
    "    for ch in check_str.decode('utf-8'):\n",
    "        if u'\\u4e00' <= ch <= u'\\u9fff':\n",
    "            print (ch)\n",
    "    print (\"END\")\n",
    "def split_str(sp_str):\n",
    "    pattern = re.compile(r'\\\\t')\n",
    "    print re.split(pattern,sp_str)\n",
    "\n",
    "    \n",
    "    \n",
    "    \n",
    "  \n",
    "\n",
    "\n",
    "\n",
    "file=docx.Document(\"basicOfComputer.docx\")\n",
    "                \n",
    "print(\"段落数:\"+str(len(file.paragraphs)))#段落数为13，每个回车隔离一段\n",
    "\n",
    "total=[]\n",
    "#输出每一段的内容\n",
    "for para in file.paragraphs:\n",
    "   # print(para.text)\n",
    "    timu=[]\n",
    "    text=para.text\n",
    "    #patternQ=re.compile(u'[^\\u4E00-\\u9FA5]')\n",
    "    patternQ=re.compile(u'[\\u4e00-\\u9fa5]')\n",
    "    resultQ=re.match(patternQ,text)\n",
    "    if resultQ:\n",
    "        #print resultQ.group()+'TImu'\n",
    "        \n",
    "        #print '题目是:'+text\n",
    "        timu.append(text)\n",
    "        \n",
    "    \n",
    "   # result=re.match\n",
    "    patternA = re.compile(r'[ABCD]')\n",
    "  \n",
    "    resultA=re.match(patternA,text)\n",
    "    \n",
    "    if resultA:\n",
    "        #print resultA.group()+'Daan'\n",
    "        \n",
    "        timu.append(text.split())\n",
    "    #print str(timu).decode('utf-8')\n",
    "    print(repr(timu).decode('unicode-escape'))\n",
    "   \n",
    "        \n",
    "   \n",
    "   # check_contain_chinese(para.text) \n",
    "\n",
    "#输出段落编号及段落内容\n",
    "#for i in range(len(file.paragraphs)):\n",
    "#    print(\"第\"+str(i)+\"段的内容是：\"+file.paragraphs[i].text)"
   ]
  },
  {
   "cell_type": "code",
   "execution_count": 3,
   "metadata": {
    "collapsed": false,
    "deletable": true,
    "editable": true
   },
   "outputs": [],
   "source": [
    "#-*- coding:utf-8 -*-\n",
    "\n"
   ]
  },
  {
   "cell_type": "code",
   "execution_count": null,
   "metadata": {
    "collapsed": true,
    "deletable": true,
    "editable": true
   },
   "outputs": [],
   "source": []
  },
  {
   "cell_type": "code",
   "execution_count": null,
   "metadata": {
    "collapsed": true,
    "deletable": true,
    "editable": true
   },
   "outputs": [],
   "source": []
  }
 ],
 "metadata": {
  "kernelspec": {
   "display_name": "Python 2",
   "language": "python",
   "name": "python2"
  },
  "language_info": {
   "codemirror_mode": {
    "name": "ipython",
    "version": 2
   },
   "file_extension": ".py",
   "mimetype": "text/x-python",
   "name": "python",
   "nbconvert_exporter": "python",
   "pygments_lexer": "ipython2",
   "version": "2.7.13"
  }
 },
 "nbformat": 4,
 "nbformat_minor": 2
}
